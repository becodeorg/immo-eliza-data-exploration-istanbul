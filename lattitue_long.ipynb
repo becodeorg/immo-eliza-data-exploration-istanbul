{
 "cells": [
  {
   "cell_type": "code",
   "execution_count": 2,
   "id": "f2ceb476",
   "metadata": {},
   "outputs": [
    {
     "name": "stdout",
     "output_type": "stream",
     "text": [
      "Collecting pgeocode\n",
      "  Downloading pgeocode-0.5.0-py3-none-any.whl.metadata (7.9 kB)\n",
      "Requirement already satisfied: requests in /opt/anaconda3/envs/coursera/lib/python3.11/site-packages (from pgeocode) (2.32.3)\n",
      "Requirement already satisfied: numpy in /opt/anaconda3/envs/coursera/lib/python3.11/site-packages (from pgeocode) (1.26.4)\n",
      "Requirement already satisfied: pandas in /opt/anaconda3/envs/coursera/lib/python3.11/site-packages (from pgeocode) (2.2.3)\n",
      "Requirement already satisfied: python-dateutil>=2.8.2 in /opt/anaconda3/envs/coursera/lib/python3.11/site-packages (from pandas->pgeocode) (2.9.0.post0)\n",
      "Requirement already satisfied: pytz>=2020.1 in /opt/anaconda3/envs/coursera/lib/python3.11/site-packages (from pandas->pgeocode) (2025.1)\n",
      "Requirement already satisfied: tzdata>=2022.7 in /opt/anaconda3/envs/coursera/lib/python3.11/site-packages (from pandas->pgeocode) (2025.1)\n",
      "Requirement already satisfied: charset-normalizer<4,>=2 in /opt/anaconda3/envs/coursera/lib/python3.11/site-packages (from requests->pgeocode) (3.3.2)\n",
      "Requirement already satisfied: idna<4,>=2.5 in /opt/anaconda3/envs/coursera/lib/python3.11/site-packages (from requests->pgeocode) (3.7)\n",
      "Requirement already satisfied: urllib3<3,>=1.21.1 in /opt/anaconda3/envs/coursera/lib/python3.11/site-packages (from requests->pgeocode) (2.3.0)\n",
      "Requirement already satisfied: certifi>=2017.4.17 in /opt/anaconda3/envs/coursera/lib/python3.11/site-packages (from requests->pgeocode) (2024.12.14)\n",
      "Requirement already satisfied: six>=1.5 in /opt/anaconda3/envs/coursera/lib/python3.11/site-packages (from python-dateutil>=2.8.2->pandas->pgeocode) (1.16.0)\n",
      "Downloading pgeocode-0.5.0-py3-none-any.whl (9.8 kB)\n",
      "Installing collected packages: pgeocode\n",
      "Successfully installed pgeocode-0.5.0\n"
     ]
    }
   ],
   "source": [
    "!pip install pgeocode"
   ]
  },
  {
   "cell_type": "code",
   "execution_count": 3,
   "id": "c3531f44",
   "metadata": {},
   "outputs": [],
   "source": [
    "import pgeocode\n",
    "import pandas as pd"
   ]
  },
  {
   "cell_type": "code",
   "execution_count": 4,
   "id": "52494cc2",
   "metadata": {},
   "outputs": [],
   "source": [
    "df = pd.read_csv(\"./kangaroo_clean.csv\")"
   ]
  },
  {
   "cell_type": "code",
   "execution_count": 5,
   "id": "ef411a55",
   "metadata": {},
   "outputs": [],
   "source": [
    "nomi = pgeocode.Nominatim('be')\n",
    "\n",
    "df[\"Latitude\"] = (nomi.query_postal_code(list(map(str,df[\"postCode\"].tolist()))).latitude)\n",
    "df[\"Longitude\"] = (nomi.query_postal_code(list(map(str,df[\"postCode\"].tolist()))).longitude)"
   ]
  },
  {
   "cell_type": "code",
   "execution_count": 6,
   "id": "caacd41a",
   "metadata": {},
   "outputs": [],
   "source": [
    "df.to_csv(\"./kangaroo_clean.csv\")"
   ]
  },
  {
   "cell_type": "code",
   "execution_count": null,
   "id": "4a9e3df6",
   "metadata": {},
   "outputs": [],
   "source": []
  }
 ],
 "metadata": {
  "kernelspec": {
   "display_name": "Python (my_env)",
   "language": "python",
   "name": "my_env"
  },
  "language_info": {
   "codemirror_mode": {
    "name": "ipython",
    "version": 3
   },
   "file_extension": ".py",
   "mimetype": "text/x-python",
   "name": "python",
   "nbconvert_exporter": "python",
   "pygments_lexer": "ipython3",
   "version": "3.11.11"
  }
 },
 "nbformat": 4,
 "nbformat_minor": 5
}
